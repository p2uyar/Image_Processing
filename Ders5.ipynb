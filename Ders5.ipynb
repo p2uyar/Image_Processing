
# coding: utf-8

# In[3]:

import matplotlib.pyplot as plt
import numpy as np



# In[4]:

pwd


# In[5]:

img_1=plt.imread("kopek.jpg")


# In[6]:

img_1.ndim


# In[7]:

img_1.shape


# In[12]:

img_2 = img_1[1:513:2,1:763:2]
img_2.ndim,img_2.shape


# In[13]:

plt.imshow(img_2)
plt.show()
img_2


# In[14]:

img_3=np.zeros((img_2.shape[0:2]))
img_3.shape


# In[19]:




# In[20]:

for i in range(img_2.shape[0]):
    for j in range (img_2.shape[1]):
        n=img_2[i,j,0]/3+img_2[i,j,1]/3+img_2[i,j,2]/3
        img_3[i,j]=n
        if n>100:
            img_4[i,j]=255
        else:
            img_4[i,j]=0
        
img_3.shape


# In[ ]:




# In[25]:

plt.imshow(img_3,plt.cm.gray)
plt.show()


# In[22]:

img_4=np.zeros((img_2.shape[0:2]))
img_4.shape


# In[23]:

for i in range(img_2.shape[0]):
    for j in range (img_2.shape[1]):
        n=img_2[i,j,0]/3+img_2[i,j,1]/3+img_2[i,j,2]/3
        img_3[i,j]=n
        if n>100:
            img_4[i,j]=255
        else:
            img_4[i,j]=0
        
img_3.shape


# In[24]:

plt.imshow(img_4,plt.cm.gray)
plt.show()


# In[26]:

threshold=100
for i in range(img_2.shape[0]):
    for j in range (img_2.shape[1]):
        n=img_2[i,j,0]/3+img_2[i,j,1]/3+img_2[i,j,2]/3
        img_3[i,j]=n
        if n>threshold:
            img_4[i,j]=255
        else:
            img_4[i,j]=0
plt.subplot(1,3,1),plt.imshow(img_2)
plt.subplot(1,3,2),plt.imshow(img_3,plt.cm.gray)
plt.subplot(1,3,3),plt.imshow(img_4,plt.cm.binary)
plt.imshow(img_4,plt.cm.binary)
plt.show()


# In[ ]:



